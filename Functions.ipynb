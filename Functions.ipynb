{
  "nbformat": 4,
  "nbformat_minor": 0,
  "metadata": {
    "colab": {
      "provenance": []
    },
    "kernelspec": {
      "name": "python3",
      "display_name": "Python 3"
    },
    "language_info": {
      "name": "python"
    }
  },
  "cells": [
    {
      "cell_type": "markdown",
      "source": [
        "Q1) What is the difference between a function and a method in Python?\n",
        "\n",
        "ans - A function is a standalone block of code that is not associated with any particular object or class. It can be defined and called independently\n",
        "def greet(name):\n",
        "    \"\"\"This is a simple function that greets a person.\"\"\"\n",
        "    return f\"Hello, {name}!\"\n",
        "\n",
        "# Calling the function\n",
        "message = greet(\"Alice\")\n",
        "print(message)\n",
        "\n",
        "A method is a function that is defined within a class and is associated with an object (an instance of that class). Methods are designed to operate on the data (attributes) of the object they belong to\n",
        "\n",
        "class Dog:\n",
        "    \"\"\"This is a simple class representing a Dog.\"\"\"\n",
        "    def __init__(self, name, breed):\n",
        "        self.name = name\n",
        "        self.breed = breed\n",
        "\n",
        "    def bark(self):\n",
        "        \"\"\"This is a method that makes the dog bark.\"\"\"\n",
        "        return f\"{self.name} says Woof!\"\n",
        "\n",
        "# Creating an object (instance) of the Dog class\n",
        "my_dog = Dog(\"Buddy\", \"Golden Retriever\")\n",
        "\n",
        "# Calling the method on the object\n",
        "sound = my_dog.bark()\n",
        "print(sound)\n",
        "\n",
        "Q2) Explain the concept of function arguments and parameters in Python.\n",
        "\n",
        "ans-Parameters:\n",
        "Parameters are variables defined within the parentheses of a function's definition.\n",
        "They act as placeholders for the values that the function expects to receive when it is called.\n",
        "Parameters specify the names and types (though not explicitly enforced in Python) of the data the function will work with.\n",
        "\n",
        "Arguments:\n",
        "Arguments are the actual values or expressions that are passed to a function when it is called.\n",
        "These values are assigned to the corresponding parameters within the function's scope during execution.\n",
        "Arguments provide the concrete data that the function's logic will operate on.\n",
        "\n",
        "Q3) What are the different ways to define and call a function in Python?\n",
        "\n",
        "ans-Using the def keyword\n",
        "\n",
        "    def function_name(parameter1, parameter2):\n",
        "        \"\"\"Docstring: Explains what the function does.\"\"\"\n",
        "        # Function body\n",
        "        result = parameter1 + parameter2\n",
        "        return result\n",
        "Using lambda (Anonymous Functions)\n",
        "\n",
        "    add = lambda x, y: x + y\n",
        "\n",
        "Q4) What is the purpose of the `return` statement in a Python function?\n",
        "\n",
        "ans-The return statement in a Python function serves two primary purposes:\n",
        "\n",
        "Exiting the Function:\n",
        "When a return statement is encountered during the execution of a function, it immediately terminates the function's execution. Any code that follows the return statement within that function will not be executed. Control is then transferred back to the point in the program where the function was called.\n",
        "\n",
        "Returning a Value:\n",
        "The return statement can be used to send a value or object back to the caller of the function. This returned value can be stored in a variable, used in an expression, passed as an argument to another function, or otherwise utilized by the calling code. If a return statement is used without specifying a value (e.g., return), the function implicitly returns the special value None.\n",
        "\n",
        "Q5) What are iterators in Python and how do they differ from iterables?\n",
        "\n",
        "ans-Iterators control loops, allowing you to traverse arbitrary data containers one item at a time. Iterables, on the other hand, provide the data that you want to iterate over\n",
        "\n",
        "Q6) Explain the concept of generators in Python and how they are defined.\n",
        "\n",
        "ans-In Python, a generator is a special type of iterator that produces a sequence of values on demand, rather than storing them all in memory at once. This makes them memory-efficient, especially when dealing with large datasets or infinite sequences. Generators are defined using functions and the yield keyword.\n",
        "\n",
        "Q7) What are the advantages of using generators over regular functions?\n",
        "\n",
        "ans- Unlike a regular function, a generator does not return its results all at once. Instead, it yields its values one by one, each time it is called. This makes it possible to generate an infinite sequence of values, as long as there is sufficient memory to store them\n",
        "\n",
        "Q8) What is a lambda function in Python and when is it typically used?\n",
        "\n",
        "ans- In Python, a lambda function is a small, anonymous function defined using the lambda keyword. It can take any number of arguments but can only have one expression. Lambda functions are typically used for short, concise operations, especially when passing functions as arguments to higher-order functions like map, filter, or reduce.\n",
        "\n",
        "Q9) Explain the purpose and usage of the `map()` function in Python.\n",
        "\n",
        "ans- The map() function in Python serves the purpose of applying a specified function to each item in an iterable (such as a list, tuple, or set) and returning an iterator that yields the results. This provides a concise and often more efficient way to transform data within iterables compared to traditional for loops, especially for large datasets.\n",
        "\n",
        "Q10) What is the difference between `map()`, `reduce()`, and `filter()` functions in Python?\n",
        "\n",
        "ans- Filter and Map returns in obj that needs to convert to the iterable format like list tuple etc. Reduce: Reduces the iterable to a single value by applying a function cumulatively\n",
        "\n",
        "Q11) Using pen & Paper write the internal mechanism for sum operation using reduce function on this given\n",
        "list:[47,11,42,13]\n",
        "\n",
        "for image\n",
        "\n",
        "/content/file_00000000a3d861f98ee257ec8a991bbd.png\n",
        "\n"
      ],
      "metadata": {
        "id": "YPRXNTR_JJfC"
      }
    },
    {
      "cell_type": "code",
      "execution_count": 1,
      "metadata": {
        "colab": {
          "base_uri": "https://localhost:8080/"
        },
        "id": "j2TZfytFIPuB",
        "outputId": "2102322d-9d24-4bee-f15a-81829e22c2d0"
      },
      "outputs": [
        {
          "output_type": "execute_result",
          "data": {
            "text/plain": [
              "12"
            ]
          },
          "metadata": {},
          "execution_count": 1
        }
      ],
      "source": [
        "# 1. Write a Python function that takes a list of numbers as input and returns the sum of all even numbers in the list\n",
        "def total(a):\n",
        "\n",
        "  s=0\n",
        "  for i in a:\n",
        "    if i%2==0:\n",
        "      s+=i\n",
        "\n",
        "  return s\n",
        "total([1,2,3,4,5,6])\n",
        "\n"
      ]
    },
    {
      "cell_type": "code",
      "source": [
        "# Create a Python function that accepts a string and returns the reverse of that string.\n",
        "def reverse_string(s):\n",
        "  return s[::-1]\n",
        "str_in='Hello'\n",
        "print('The reverse of string',reverse_string(str_in))\n"
      ],
      "metadata": {
        "colab": {
          "base_uri": "https://localhost:8080/"
        },
        "id": "xQg7Uy7gJZzb",
        "outputId": "18ec6a7d-ceb6-4e39-dbc8-c0c126443305"
      },
      "execution_count": 2,
      "outputs": [
        {
          "output_type": "stream",
          "name": "stdout",
          "text": [
            "The reverse of string olleH\n"
          ]
        }
      ]
    },
    {
      "cell_type": "code",
      "source": [
        "# 3. Implement a Python function that takes a list of integers and returns a new list containing the squares of each number\n",
        "l=[1,2,3,4,5,6,7,8,9,10]\n",
        "list(map(lambda l:l**2,l))"
      ],
      "metadata": {
        "colab": {
          "base_uri": "https://localhost:8080/"
        },
        "id": "YFVaTVRuKWHl",
        "outputId": "5e1c3339-f168-401c-aede-8dea03b0b8f0"
      },
      "execution_count": 3,
      "outputs": [
        {
          "output_type": "execute_result",
          "data": {
            "text/plain": [
              "[1, 4, 9, 16, 25, 36, 49, 64, 81, 100]"
            ]
          },
          "metadata": {},
          "execution_count": 3
        }
      ]
    },
    {
      "cell_type": "code",
      "source": [
        "#4 Write a Python function that checks if a given number is prime or not from 1 to 200.\n",
        "import math\n",
        "is_prime = lambda n: n > 1 and all(n % i != 0 for i in range(2, int(math.sqrt(n)) + 1))\n",
        "primes = list(filter(is_prime, range(1, 201)))\n",
        "print(\"Primes from 1 to 200:\", primes)\n"
      ],
      "metadata": {
        "colab": {
          "base_uri": "https://localhost:8080/"
        },
        "id": "ERPfmO4rrwGF",
        "outputId": "21d15276-113d-48de-b1a6-003cac4689fb"
      },
      "execution_count": 4,
      "outputs": [
        {
          "output_type": "stream",
          "name": "stdout",
          "text": [
            "Primes from 1 to 200: [2, 3, 5, 7, 11, 13, 17, 19, 23, 29, 31, 37, 41, 43, 47, 53, 59, 61, 67, 71, 73, 79, 83, 89, 97, 101, 103, 107, 109, 113, 127, 131, 137, 139, 149, 151, 157, 163, 167, 173, 179, 181, 191, 193, 197, 199]\n"
          ]
        }
      ]
    },
    {
      "cell_type": "code",
      "source": [
        "#5 Create an iterator class in Python that generates the Fibonacci sequence up to a specified number of terms\n",
        "class FibonacciIterator:\n",
        "    def __init__(self, max_terms):\n",
        "        self.max_terms = max_terms\n",
        "        self.count = 0\n",
        "        self.a = 0\n",
        "        self.b = 1\n",
        "\n",
        "    def __iter__(self):\n",
        "        return self\n",
        "\n",
        "    def __next__(self):\n",
        "        if self.count >= self.max_terms:\n",
        "            raise StopIteration\n",
        "        if self.count == 0:\n",
        "            self.count += 1\n",
        "            return self.a\n",
        "        elif self.count == 1:\n",
        "            self.count += 1\n",
        "            return self.b\n",
        "        else:\n",
        "            self.a, self.b = self.b, self.a + self.b\n",
        "            self.count += 1\n",
        "            return self.b\n",
        "fib = FibonacciIterator(10)\n",
        "for num in fib:\n",
        "    print(num)\n"
      ],
      "metadata": {
        "colab": {
          "base_uri": "https://localhost:8080/"
        },
        "id": "Iec-nQ0Hsh2K",
        "outputId": "7a8a2174-16cc-4a25-c120-2c6bd8ed642b"
      },
      "execution_count": 6,
      "outputs": [
        {
          "output_type": "stream",
          "name": "stdout",
          "text": [
            "0\n",
            "1\n",
            "1\n",
            "2\n",
            "3\n",
            "5\n",
            "8\n",
            "13\n",
            "21\n",
            "34\n"
          ]
        }
      ]
    },
    {
      "cell_type": "code",
      "source": [
        "#6 Write a generator function in Python that yields the powers of 2 up to a given exponent.\n",
        "def power_of_two(exponent):\n",
        "    for i in range(exponent + 1):\n",
        "        yield 2 ** i\n",
        "for power in power_of_two(3):\n",
        "    print(power)\n",
        "\n"
      ],
      "metadata": {
        "colab": {
          "base_uri": "https://localhost:8080/"
        },
        "id": "A4UrsPPQtHti",
        "outputId": "606306bf-3e07-479c-8cec-304f5d4d85cf"
      },
      "execution_count": 8,
      "outputs": [
        {
          "output_type": "stream",
          "name": "stdout",
          "text": [
            "1\n",
            "2\n",
            "4\n",
            "8\n"
          ]
        }
      ]
    },
    {
      "cell_type": "code",
      "source": [
        "#7 Implement a generator function that reads a file line by line and yields each line as a string.\n",
        "def read_file_lines(file_path):\n",
        "    with open(file_path, 'r') as file:\n",
        "        for line in file:\n",
        "            yield line\n",
        "read_file_lines('Data.txt')"
      ],
      "metadata": {
        "colab": {
          "base_uri": "https://localhost:8080/"
        },
        "id": "aE98k-uitT3e",
        "outputId": "e5813e24-13b0-4a23-c9d4-4ca1fb698717"
      },
      "execution_count": 9,
      "outputs": [
        {
          "output_type": "execute_result",
          "data": {
            "text/plain": [
              "<generator object read_file_lines at 0x7f33f2140040>"
            ]
          },
          "metadata": {},
          "execution_count": 9
        }
      ]
    },
    {
      "cell_type": "code",
      "source": [
        "#8 Use a lambda function in Python to sort a list of tuples based on the second element of each tuple.\n",
        "tuples_list = [(1, 3), (4, 1), (2, 2), (5, 0)]\n",
        "sorted_list = sorted(tuples_list, key=lambda x: x[1])\n",
        "print(sorted_list)\n"
      ],
      "metadata": {
        "colab": {
          "base_uri": "https://localhost:8080/"
        },
        "id": "xz-KhFfvt5Cd",
        "outputId": "8f043328-0102-4d67-8484-179a3f24ac6a"
      },
      "execution_count": 10,
      "outputs": [
        {
          "output_type": "stream",
          "name": "stdout",
          "text": [
            "[(5, 0), (4, 1), (2, 2), (1, 3)]\n"
          ]
        }
      ]
    },
    {
      "cell_type": "code",
      "source": [
        "#9 Write a Python program that uses `map()` to convert a list of temperatures from Celsius to Fahrenheit.\n",
        "celsius_temperatures = [0, 10, 20, 30, 40]\n",
        "fahrenheit_temperatures = list(map(lambda c: (c * 9/5) + 32, celsius_temperatures))\n",
        "print(fahrenheit_temperatures)"
      ],
      "metadata": {
        "colab": {
          "base_uri": "https://localhost:8080/"
        },
        "id": "qHZLlwUVuX3J",
        "outputId": "6da6daca-0167-4af8-9e04-972bdfb5a5aa"
      },
      "execution_count": 12,
      "outputs": [
        {
          "output_type": "stream",
          "name": "stdout",
          "text": [
            "[32.0, 50.0, 68.0, 86.0, 104.0]\n"
          ]
        }
      ]
    },
    {
      "cell_type": "code",
      "source": [
        "#10 Create a Python program that uses `filter()` to remove all the vowels from a given string.\n",
        "def remove_vowels(string):\n",
        "    vowels = 'aeiouAEIOU'\n",
        "    return ''.join(filter(lambda x: x not in vowels, string))\n",
        "input_string = \"Hello, World!\"\n",
        "result = remove_vowels(input_string)\n",
        "print(result)"
      ],
      "metadata": {
        "colab": {
          "base_uri": "https://localhost:8080/"
        },
        "id": "tww_3F-9ujgJ",
        "outputId": "3d746081-06e4-4e62-a508-2adbbcdc03ae"
      },
      "execution_count": 14,
      "outputs": [
        {
          "output_type": "stream",
          "name": "stdout",
          "text": [
            "Hll, Wrld!\n"
          ]
        }
      ]
    },
    {
      "cell_type": "code",
      "source": [
        "#11 11) Imagine an accounting routine used in a book shop. It works on a list with sublists, which look like this:\n",
        "\n",
        "'''Write a Python program, which returns a list with 2-tuples. Each tuple consists of the order number and the\n",
        "product of the price per item and the quantity. The product should be increased by 10,- € if the value of the\n",
        "order is smaller than 100,00 €.\n",
        "Write a Python program using lambda and map.\n",
        "'''\n",
        "orders = [\n",
        "    [34587, \"Learning Python, Mark Lutz\", 4, 40.95],\n",
        "    [98762, \"Programming Python, Mark Lutz\", 5, 56.80],\n",
        "    [77226, \"Head First Python, Paul Barry\", 3, 32.95],\n",
        "    [88112, \"Einführung in Python3, Bernd Klein\", 3, 24.99]\n",
        "]\n",
        "\n",
        "# Use lambda and map\n",
        "order_totals = list(map(lambda order: (\n",
        "    order[0],\n",
        "    round(order[2] * order[3] + (10 if order[2] * order[3] < 100 else 0), 2)\n",
        "), orders))\n",
        "\n",
        "print(order_totals)\n"
      ],
      "metadata": {
        "colab": {
          "base_uri": "https://localhost:8080/"
        },
        "id": "YVTLESacu1No",
        "outputId": "bc7b5e79-378a-4132-aedb-dba320c387a7"
      },
      "execution_count": 15,
      "outputs": [
        {
          "output_type": "stream",
          "name": "stdout",
          "text": [
            "[(34587, 163.8), (98762, 284.0), (77226, 108.85), (88112, 84.97)]\n"
          ]
        }
      ]
    }
  ]
}